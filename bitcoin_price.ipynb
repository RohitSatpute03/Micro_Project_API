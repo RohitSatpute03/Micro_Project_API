{
 "cells": [
  {
   "cell_type": "code",
   "execution_count": 2,
   "metadata": {},
   "outputs": [
    {
     "name": "stdout",
     "output_type": "stream",
     "text": [
      "{'time': {'updated': 'Jun 27, 2024 12:17:20 UTC', 'updatedISO': '2024-06-27T12:17:20+00:00', 'updateduk': 'Jun 27, 2024 at 13:17 BST'}, 'disclaimer': 'This data was produced from the CoinDesk Bitcoin Price Index (USD). Non-USD currency data converted using hourly conversion rate from openexchangerates.org', 'chartName': 'Bitcoin', 'bpi': {'USD': {'code': 'USD', 'symbol': '&#36;', 'rate': '61,306.112', 'description': 'United States Dollar', 'rate_float': 61306.1118}, 'GBP': {'code': 'GBP', 'symbol': '&pound;', 'rate': '48,497.426', 'description': 'British Pound Sterling', 'rate_float': 48497.4259}, 'EUR': {'code': 'EUR', 'symbol': '&euro;', 'rate': '57,333.721', 'description': 'Euro', 'rate_float': 57333.721}}}\n"
     ]
    }
   ],
   "source": [
    "#get the price of bitcoin\n",
    "\n",
    "import requests\n",
    "\n",
    "response = requests.get('https://api.coindesk.com/v1/bpi/currentprice.json')\n",
    "\n",
    "data = response.json()\n",
    "print(data)"
   ]
  },
  {
   "cell_type": "code",
   "execution_count": 4,
   "metadata": {},
   "outputs": [
    {
     "name": "stdout",
     "output_type": "stream",
     "text": [
      "Time: Jun 27, 2024 12:17:20 UTC\n",
      "Price 1 BTC: 61306.1118\n"
     ]
    }
   ],
   "source": [
    "print(\"Time: \" + str(data['time']['updated']))\n",
    "#prints last updated value\n",
    "print(\"Price 1 BTC: \" + str(data['bpi']['USD']['rate_float']))"
   ]
  }
 ],
 "metadata": {
  "kernelspec": {
   "display_name": "Python 3",
   "language": "python",
   "name": "python3"
  },
  "language_info": {
   "codemirror_mode": {
    "name": "ipython",
    "version": 3
   },
   "file_extension": ".py",
   "mimetype": "text/x-python",
   "name": "python",
   "nbconvert_exporter": "python",
   "pygments_lexer": "ipython3",
   "version": "3.11.4"
  }
 },
 "nbformat": 4,
 "nbformat_minor": 2
}
